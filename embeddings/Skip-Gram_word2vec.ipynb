{
 "cells": [
  {
   "cell_type": "markdown",
   "metadata": {
    "deletable": true,
    "editable": true
   },
   "source": [
    "# Skip-gram word2vec\n",
    "\n",
    "In this notebook, I'll lead you through using TensorFlow to implement the word2vec algorithm using the skip-gram architecture. By implementing this, you'll learn about embedding words for use in natural language processing. This will come in handy when dealing with things like machine translation.\n",
    "\n",
    "## Readings\n",
    "\n",
    "Here are the resources I used to build this notebook. I suggest reading these either beforehand or while you're working on this material.\n",
    "\n",
    "* A really good [conceptual overview](http://mccormickml.com/2016/04/19/word2vec-tutorial-the-skip-gram-model/) of word2vec from Chris McCormick \n",
    "* [First word2vec paper](https://arxiv.org/pdf/1301.3781.pdf) from Mikolov et al.\n",
    "* [NIPS paper](http://papers.nips.cc/paper/5021-distributed-representations-of-words-and-phrases-and-their-compositionality.pdf) with improvements for word2vec also from Mikolov et al.\n",
    "* An [implementation of word2vec](http://www.thushv.com/natural_language_processing/word2vec-part-1-nlp-with-deep-learning-with-tensorflow-skip-gram/) from Thushan Ganegedara\n",
    "* TensorFlow [word2vec tutorial](https://www.tensorflow.org/tutorials/word2vec)\n",
    "\n",
    "## Word embeddings\n",
    "\n",
    "When you're dealing with words in text, you end up with tens of thousands of classes to predict, one for each word. Trying to one-hot encode these words is massively inefficient, you'll have one element set to 1 and the other 50,000 set to 0. The matrix multiplication going into the first hidden layer will have almost all of the resulting values be zero. This a huge waste of computation. \n",
    "\n",
    "![one-hot encodings](assets/one_hot_encoding.png)\n",
    "\n",
    "To solve this problem and greatly increase the efficiency of our networks, we use what are called embeddings. Embeddings are just a fully connected layer like you've seen before. We call this layer the embedding layer and the weights are embedding weights. We skip the multiplication into the embedding layer by instead directly grabbing the hidden layer values from the weight matrix. We can do this because the multiplication of a one-hot encoded vector with a matrix returns the row of the matrix corresponding the index of the \"on\" input unit.\n",
    "\n",
    "![lookup](assets/lookup_matrix.png)\n",
    "\n",
    "Instead of doing the matrix multiplication, we use the weight matrix as a lookup table. We encode the words as integers, for example \"heart\" is encoded as 958, \"mind\" as 18094. Then to get hidden layer values for \"heart\", you just take the 958th row of the embedding matrix. This process is called an **embedding lookup** and the number of hidden units is the **embedding dimension**.\n",
    "\n",
    "<img src='assets/tokenize_lookup.png' width=500>\n",
    " \n",
    "There is nothing magical going on here. The embedding lookup table is just a weight matrix. The embedding layer is just a hidden layer. The lookup is just a shortcut for the matrix multiplication. The lookup table is trained just like any weight matrix as well.\n",
    "\n",
    "Embeddings aren't only used for words of course. You can use them for any model where you have a massive number of classes. A particular type of model called **Word2Vec** uses the embedding layer to find vector representations of words that contain semantic meaning.\n",
    "\n"
   ]
  },
  {
   "cell_type": "markdown",
   "metadata": {
    "deletable": true,
    "editable": true
   },
   "source": [
    "## Word2Vec\n",
    "\n",
    "The word2vec algorithm finds much more efficient representations by finding vectors that represent the words. These vectors also contain semantic information about the words. Words that show up in similar contexts, such as \"black\", \"white\", and \"red\" will have vectors near each other. There are two architectures for implementing word2vec, CBOW (Continuous Bag-Of-Words) and Skip-gram.\n",
    "\n",
    "<img src=\"assets/word2vec_architectures.png\" width=\"500\">\n",
    "\n",
    "In this implementation, we'll be using the skip-gram architecture because it performs better than CBOW. Here, we pass in a word and try to predict the words surrounding it in the text. In this way, we can train the network to learn representations for words that show up in similar contexts.\n",
    "\n",
    "First up, importing packages."
   ]
  },
  {
   "cell_type": "code",
   "execution_count": 3,
   "metadata": {
    "collapsed": true,
    "deletable": true,
    "editable": true
   },
   "outputs": [],
   "source": [
    "import time\n",
    "\n",
    "import numpy as np\n",
    "import tensorflow as tf\n",
    "\n",
    "import utils"
   ]
  },
  {
   "cell_type": "markdown",
   "metadata": {
    "deletable": true,
    "editable": true
   },
   "source": [
    "Load the [text8 dataset](http://mattmahoney.net/dc/textdata.html), a file of cleaned up Wikipedia articles from Matt Mahoney. The next cell will download the data set to the `data` folder. Then you can extract it and delete the archive file to save storage space."
   ]
  },
  {
   "cell_type": "code",
   "execution_count": 4,
   "metadata": {
    "collapsed": false,
    "deletable": true,
    "editable": true
   },
   "outputs": [],
   "source": [
    "from urllib.request import urlretrieve\n",
    "from os.path import isfile, isdir\n",
    "from tqdm import tqdm\n",
    "import zipfile\n",
    "\n",
    "dataset_folder_path = 'data'\n",
    "dataset_filename = 'text8.zip'\n",
    "dataset_name = 'Text8 Dataset'\n",
    "\n",
    "class DLProgress(tqdm):\n",
    "    last_block = 0\n",
    "\n",
    "    def hook(self, block_num=1, block_size=1, total_size=None):\n",
    "        self.total = total_size\n",
    "        self.update((block_num - self.last_block) * block_size)\n",
    "        self.last_block = block_num\n",
    "\n",
    "if not isfile(dataset_filename):\n",
    "    with DLProgress(unit='B', unit_scale=True, miniters=1, desc=dataset_name) as pbar:\n",
    "        urlretrieve(\n",
    "            'http://mattmahoney.net/dc/text8.zip',\n",
    "            dataset_filename,\n",
    "            pbar.hook)\n",
    "\n",
    "if not isdir(dataset_folder_path):\n",
    "    with zipfile.ZipFile(dataset_filename) as zip_ref:\n",
    "        zip_ref.extractall(dataset_folder_path)\n",
    "        \n",
    "with open('data/text8') as f:\n",
    "    text = f.read()"
   ]
  },
  {
   "cell_type": "markdown",
   "metadata": {
    "deletable": true,
    "editable": true
   },
   "source": [
    "## Preprocessing\n",
    "\n",
    "Here I'm fixing up the text to make training easier. This comes from the `utils` module I wrote. The `preprocess` function coverts any punctuation into tokens, so a period is changed to ` <PERIOD> `. In this data set, there aren't any periods, but it will help in other NLP problems. I'm also removing all words that show up five or fewer times in the dataset. This will greatly reduce issues due to noise in the data and improve the quality of the vector representations. If you want to write your own functions for this stuff, go for it."
   ]
  },
  {
   "cell_type": "code",
   "execution_count": 5,
   "metadata": {
    "collapsed": false,
    "deletable": true,
    "editable": true
   },
   "outputs": [
    {
     "name": "stdout",
     "output_type": "stream",
     "text": [
      "['anarchism', 'originated', 'as', 'a', 'term', 'of', 'abuse', 'first', 'used', 'against', 'early', 'working', 'class', 'radicals', 'including', 'the', 'diggers', 'of', 'the', 'english', 'revolution', 'and', 'the', 'sans', 'culottes', 'of', 'the', 'french', 'revolution', 'whilst']\n"
     ]
    }
   ],
   "source": [
    "words = utils.preprocess(text)\n",
    "print(words[:30])"
   ]
  },
  {
   "cell_type": "code",
   "execution_count": 6,
   "metadata": {
    "collapsed": false,
    "deletable": true,
    "editable": true
   },
   "outputs": [
    {
     "name": "stdout",
     "output_type": "stream",
     "text": [
      "Total words: 16680599\n",
      "Unique words: 63641\n"
     ]
    }
   ],
   "source": [
    "print(\"Total words: {}\".format(len(words)))\n",
    "print(\"Unique words: {}\".format(len(set(words))))"
   ]
  },
  {
   "cell_type": "markdown",
   "metadata": {
    "deletable": true,
    "editable": true
   },
   "source": [
    "And here I'm creating dictionaries to covert words to integers and backwards, integers to words. The integers are assigned in descending frequency order, so the most frequent word (\"the\") is given the integer 0 and the next most frequent is 1 and so on. The words are converted to integers and stored in the list `int_words`."
   ]
  },
  {
   "cell_type": "code",
   "execution_count": 7,
   "metadata": {
    "collapsed": true,
    "deletable": true,
    "editable": true
   },
   "outputs": [],
   "source": [
    "vocab_to_int, int_to_vocab = utils.create_lookup_tables(words)\n",
    "int_words = [vocab_to_int[word] for word in words]"
   ]
  },
  {
   "cell_type": "markdown",
   "metadata": {
    "deletable": true,
    "editable": true
   },
   "source": [
    "## Subsampling\n",
    "\n",
    "Words that show up often such as \"the\", \"of\", and \"for\" don't provide much context to the nearby words. If we discard some of them, we can remove some of the noise from our data and in return get faster training and better representations. This process is called subsampling by Mikolov. For each word $w_i$ in the training set, we'll discard it with probability given by \n",
    "\n",
    "$$ P(w_i) = 1 - \\sqrt{\\frac{t}{f(w_i)}} $$\n",
    "\n",
    "where $t$ is a threshold parameter and $f(w_i)$ is the frequency of word $w_i$ in the total dataset.\n",
    "\n",
    "I'm going to leave this up to you as an exercise. This is more of a programming challenge, than about deep learning specifically. But, being able to prepare your data for your network is an important skill to have. Check out my solution to see how I did it.\n",
    "\n",
    "> **Exercise:** Implement subsampling for the words in `int_words`. That is, go through `int_words` and discard each word given the probablility $P(w_i)$ shown above. Note that $P(w_i)$ is the probability that a word is discarded. Assign the subsampled data to `train_words`."
   ]
  },
  {
   "cell_type": "code",
   "execution_count": 10,
   "metadata": {
    "collapsed": false,
    "deletable": true,
    "editable": true
   },
   "outputs": [],
   "source": [
    "## Your code here\n",
    "\n",
    "from collections import Counter\n",
    "import random        \n",
    "\n",
    "threshold = 1e-5\n",
    "word_counts = Counter(int_words)\n",
    "total_count = len(int_words)\n",
    "freqs = {word: count/total_count for word, count in word_counts.items()}\n",
    "p_drop = {word: 1 - np.sqrt(threshold/freqs[word]) for word in word_counts}\n",
    "train_words = [word for word in int_words if random.random() < (1 - p_drop[word])]"
   ]
  },
  {
   "cell_type": "markdown",
   "metadata": {
    "deletable": true,
    "editable": true
   },
   "source": [
    "## Making batches"
   ]
  },
  {
   "cell_type": "markdown",
   "metadata": {
    "deletable": true,
    "editable": true
   },
   "source": [
    "Now that our data is in good shape, we need to get it into the proper form to pass it into our network. With the skip-gram architecture, for each word in the text, we want to grab all the words in a window around that word, with size $C$. \n",
    "\n",
    "From [Mikolov et al.](https://arxiv.org/pdf/1301.3781.pdf): \n",
    "\n",
    "\"Since the more distant words are usually less related to the current word than those close to it, we give less weight to the distant words by sampling less from those words in our training examples... If we choose $C = 5$, for each training word we will select randomly a number $R$ in range $< 1; C >$, and then use $R$ words from history and $R$ words from the future of the current word as correct labels.\"\n",
    "\n",
    "> **Exercise:** Implement a function `get_target` that receives a list of words, an index, and a window size, then returns a list of words in the window around the index. Make sure to use the algorithm described above, where you choose a random number of words from the window."
   ]
  },
  {
   "cell_type": "code",
   "execution_count": 14,
   "metadata": {
    "collapsed": true,
    "deletable": true,
    "editable": true
   },
   "outputs": [],
   "source": [
    "def get_target(words, idx, window_size=5):\n",
    "    ''' Get a list of words in a window around an index. '''\n",
    "    R = random.randint(1, window_size+1)\n",
    "    start = idx - R if (idx - R) > 0 else 0\n",
    "    stop = idx + R\n",
    "    return list(set(words[start:idx] + words[idx+1:stop+1]))"
   ]
  },
  {
   "cell_type": "markdown",
   "metadata": {
    "deletable": true,
    "editable": true
   },
   "source": [
    "Here's a function that returns batches for our network. The idea is that it grabs `batch_size` words from a words list. Then for each of those words, it gets the target words in the window. I haven't found a way to pass in a random number of target words and get it to work with the architecture, so I make one row per input-target pair. This is a generator function by the way, helps save memory."
   ]
  },
  {
   "cell_type": "code",
   "execution_count": 15,
   "metadata": {
    "collapsed": true,
    "deletable": true,
    "editable": true
   },
   "outputs": [],
   "source": [
    "def get_batches(words, batch_size, window_size=5):\n",
    "    ''' Create a generator of word batches as a tuple (inputs, targets) '''\n",
    "    \n",
    "    n_batches = len(words)//batch_size\n",
    "    \n",
    "    # only full batches\n",
    "    words = words[:n_batches*batch_size]\n",
    "    \n",
    "    for idx in range(0, len(words), batch_size):\n",
    "        x, y = [], []\n",
    "        batch = words[idx:idx+batch_size]\n",
    "        for ii in range(len(batch)):\n",
    "            batch_x = batch[ii]\n",
    "            batch_y = get_target(batch, ii, window_size)\n",
    "            y.extend(batch_y)\n",
    "            x.extend([batch_x]*len(batch_y))\n",
    "        yield x, y\n",
    "    "
   ]
  },
  {
   "cell_type": "markdown",
   "metadata": {
    "deletable": true,
    "editable": true
   },
   "source": [
    "## Building the graph\n",
    "\n",
    "From [Chris McCormick's blog](http://mccormickml.com/2016/04/19/word2vec-tutorial-the-skip-gram-model/), we can see the general structure of our network.\n",
    "![embedding_network](./assets/skip_gram_net_arch.png)\n",
    "\n",
    "The input words are passed in as integers. This will go into a hidden layer of linear units, then into a softmax layer. We'll use the softmax layer to make a prediction like normal.\n",
    "\n",
    "The idea here is to train the hidden layer weight matrix to find efficient representations for our words. We can discard the softmax layer becuase we don't really care about making predictions with this network. We just want the embedding matrix so we can use it in other networks we build from the dataset.\n",
    "\n",
    "I'm going to have you build the graph in stages now. First off, creating the `inputs` and `labels` placeholders like normal.\n",
    "\n",
    "> **Exercise:** Assign `inputs` and `labels` using `tf.placeholder`. We're going to be passing in integers, so set the data types to `tf.int32`. The batches we're passing in will have varying sizes, so set the batch sizes to [`None`]. To make things work later, you'll need to set the second dimension of `labels` to `None` or `1`."
   ]
  },
  {
   "cell_type": "code",
   "execution_count": 27,
   "metadata": {
    "collapsed": true,
    "deletable": true,
    "editable": true
   },
   "outputs": [],
   "source": [
    "train_graph = tf.Graph()\n",
    "with train_graph.as_default():\n",
    "    inputs = tf.placeholder(tf.int32, [None], name='inputs')\n",
    "    labels = tf.placeholder(tf.int32, [None, None], name='labels')"
   ]
  },
  {
   "cell_type": "markdown",
   "metadata": {
    "deletable": true,
    "editable": true
   },
   "source": [
    "## Embedding\n",
    "\n"
   ]
  },
  {
   "cell_type": "markdown",
   "metadata": {
    "collapsed": true,
    "deletable": true,
    "editable": true
   },
   "source": [
    "The embedding matrix has a size of the number of words by the number of units in the hidden layer. So, if you have 10,000 words and 300 hidden units, the matrix will have size $10,000 \\times 300$. Remember that we're using tokenized data for our inputs, usually as integers, where the number of tokens is the number of words in our vocabulary.\n",
    "\n",
    "\n",
    "> **Exercise:** Tensorflow provides a convenient function [`tf.nn.embedding_lookup`](https://www.tensorflow.org/api_docs/python/tf/nn/embedding_lookup) that does this lookup for us. You pass in the embedding matrix and a tensor of integers, then it returns rows in the matrix corresponding to those integers. Below, set the number of embedding features you'll use (200 is a good start), create the embedding matrix variable, and use `tf.nn.embedding_lookup` to get the embedding tensors. For the embedding matrix, I suggest you initialize it with a uniform random numbers between -1 and 1 using [tf.random_uniform](https://www.tensorflow.org/api_docs/python/tf/random_uniform)."
   ]
  },
  {
   "cell_type": "code",
   "execution_count": 28,
   "metadata": {
    "collapsed": false,
    "deletable": true,
    "editable": true
   },
   "outputs": [],
   "source": [
    "n_vocab = len(int_to_vocab)\n",
    "n_embedding =  200\n",
    "with train_graph.as_default():\n",
    "    embedding = tf.Variable(tf.random_uniform((n_vocab, n_embedding), -1, 1), name=\"embedding\")\n",
    "    embed = tf.nn.embedding_lookup(embedding, ids=inputs)"
   ]
  },
  {
   "cell_type": "markdown",
   "metadata": {
    "deletable": true,
    "editable": true
   },
   "source": [
    "## Negative sampling\n",
    "\n"
   ]
  },
  {
   "cell_type": "markdown",
   "metadata": {
    "deletable": true,
    "editable": true
   },
   "source": [
    "For every example we give the network, we train it using the output from the softmax layer. That means for each input, we're making very small changes to millions of weights even though we only have one true example. This makes training the network very inefficient. We can approximate the loss from the softmax layer by only updating a small subset of all the weights at once. We'll update the weights for the correct label, but only a small number of incorrect labels. This is called [\"negative sampling\"](http://papers.nips.cc/paper/5021-distributed-representations-of-words-and-phrases-and-their-compositionality.pdf). Tensorflow has a convenient function to do this, [`tf.nn.sampled_softmax_loss`](https://www.tensorflow.org/api_docs/python/tf/nn/sampled_softmax_loss).\n",
    "\n",
    "> **Exercise:** Below, create weights and biases for the softmax layer. Then, use [`tf.nn.sampled_softmax_loss`](https://www.tensorflow.org/api_docs/python/tf/nn/sampled_softmax_loss) to calculate the loss. Be sure to read the documentation to figure out how it works."
   ]
  },
  {
   "cell_type": "code",
   "execution_count": 29,
   "metadata": {
    "collapsed": false,
    "deletable": true,
    "editable": true
   },
   "outputs": [],
   "source": [
    "# Number of negative labels to sample\n",
    "n_sampled = 100\n",
    "with train_graph.as_default():\n",
    "    softmax_w = tf.Variable(tf.truncated_normal((n_vocab, n_embedding), stddev=0.1))\n",
    "    softmax_b = tf.Variable(tf.zeros(n_vocab))\n",
    "    \n",
    "    # Calculate the loss using negative sampling\n",
    "    loss = tf.nn.sampled_softmax_loss(softmax_w, softmax_b, \n",
    "                                      labels, embed,\n",
    "                                      n_sampled, n_vocab)\n",
    "    \n",
    "    cost = tf.reduce_mean(loss)\n",
    "    optimizer = tf.train.AdamOptimizer().minimize(cost)"
   ]
  },
  {
   "cell_type": "markdown",
   "metadata": {
    "deletable": true,
    "editable": true
   },
   "source": [
    "## Validation\n",
    "\n",
    "This code is from Thushan Ganegedara's implementation. Here we're going to choose a few common words and few uncommon words. Then, we'll print out the closest words to them. It's a nice way to check that our embedding table is grouping together words with similar semantic meanings."
   ]
  },
  {
   "cell_type": "code",
   "execution_count": 30,
   "metadata": {
    "collapsed": true,
    "deletable": true,
    "editable": true
   },
   "outputs": [],
   "source": [
    "with train_graph.as_default():\n",
    "    ## From Thushan Ganegedara's implementation\n",
    "    valid_size = 16 # Random set of words to evaluate similarity on.\n",
    "    valid_window = 100\n",
    "    # pick 8 samples from (0,100) and (1000,1100) each ranges. lower id implies more frequent \n",
    "    valid_examples = np.array(random.sample(range(valid_window), valid_size//2))\n",
    "    valid_examples = np.append(valid_examples, \n",
    "                               random.sample(range(1000,1000+valid_window), valid_size//2))\n",
    "\n",
    "    valid_dataset = tf.constant(valid_examples, dtype=tf.int32)\n",
    "    \n",
    "    # We use the cosine distance:\n",
    "    norm = tf.sqrt(tf.reduce_sum(tf.square(embedding), 1, keep_dims=True))\n",
    "    normalized_embedding = embedding / norm\n",
    "    valid_embedding = tf.nn.embedding_lookup(normalized_embedding, valid_dataset)\n",
    "    similarity = tf.matmul(valid_embedding, tf.transpose(normalized_embedding))"
   ]
  },
  {
   "cell_type": "code",
   "execution_count": 31,
   "metadata": {
    "collapsed": true,
    "deletable": true,
    "editable": true
   },
   "outputs": [],
   "source": [
    "# If the checkpoints directory doesn't exist:\n",
    "!mkdir checkpoints"
   ]
  },
  {
   "cell_type": "markdown",
   "metadata": {
    "deletable": true,
    "editable": true
   },
   "source": [
    "## Training\n",
    "\n",
    "Below is the code to train the network. Every 100 batches it reports the training loss. Every 1000 batches, it'll print out the validation words."
   ]
  },
  {
   "cell_type": "code",
   "execution_count": null,
   "metadata": {
    "collapsed": false,
    "deletable": true,
    "editable": true
   },
   "outputs": [
    {
     "name": "stdout",
     "output_type": "stream",
     "text": [
      "Epoch 1/10 Iteration: 100 Avg. Training loss: 5.6259 0.5037 sec/batch\n",
      "Epoch 1/10 Iteration: 200 Avg. Training loss: 5.6252 0.4857 sec/batch\n",
      "Epoch 1/10 Iteration: 300 Avg. Training loss: 5.5255 0.5328 sec/batch\n",
      "Epoch 1/10 Iteration: 400 Avg. Training loss: 5.6112 0.5933 sec/batch\n",
      "Epoch 1/10 Iteration: 500 Avg. Training loss: 5.4890 0.5666 sec/batch\n",
      "Epoch 1/10 Iteration: 600 Avg. Training loss: 5.5404 0.5724 sec/batch\n",
      "Epoch 1/10 Iteration: 700 Avg. Training loss: 5.5439 0.5837 sec/batch\n",
      "Epoch 1/10 Iteration: 800 Avg. Training loss: 5.5354 0.5840 sec/batch\n",
      "Epoch 1/10 Iteration: 900 Avg. Training loss: 5.4539 0.5865 sec/batch\n",
      "Epoch 1/10 Iteration: 1000 Avg. Training loss: 5.4302 0.5563 sec/batch\n",
      "Nearest to can: dateline, epistemological, screech, perlman, mystery, schoolgirl, morrissey, stockholm,\n",
      "Nearest to this: howland, prospect, mustelidae, banyan, petri, lactamase, grim, jammu,\n",
      "Nearest to two: arisen, embraced, schuyler, testaments, characteristically, gory, dachau, philippi,\n",
      "Nearest to states: targeted, beatniks, saxe, freenode, besieged, xliv, swains, rana,\n",
      "Nearest to or: hermann, persuading, cotswolds, coping, inadequate, parabola, modified, lac,\n",
      "Nearest to these: ludo, honda, slenska, apricots, truman, print, pathogens, courson,\n",
      "Nearest to d: villainous, cockpits, tertium, attendance, fran, zhukov, popolare, indigenous,\n",
      "Nearest to if: fossil, acta, complicates, glu, concr, cutouts, opal, hindemith,\n",
      "Nearest to construction: dermanland, pertinent, pcs, superorder, assemblers, tied, caches, lure,\n",
      "Nearest to accepted: interval, ahead, imitators, piercing, telemark, methoxy, overseas, epistles,\n",
      "Nearest to dr: remittances, enhanced, unsuspected, appreciative, breeder, toilets, tutte, constructivists,\n",
      "Nearest to ice: deliberative, utr, getz, affable, visser, indicted, sie, sunt,\n",
      "Nearest to applied: anew, csce, kaczynski, zealously, online, hashem, transonic, counselling,\n",
      "Nearest to defense: gehinom, henricus, boycotted, sutra, slightly, chloe, skeptical, lightfoot,\n",
      "Nearest to account: asbestosis, sumitomo, fredericton, dpp, suez, protons, julia, sargon,\n",
      "Nearest to test: by, broadside, smit, andrei, mawson, motivate, perilous, define,\n",
      "Epoch 1/10 Iteration: 1100 Avg. Training loss: 5.4843 0.5694 sec/batch\n",
      "Epoch 1/10 Iteration: 1200 Avg. Training loss: 5.3662 0.5500 sec/batch\n",
      "Epoch 1/10 Iteration: 1300 Avg. Training loss: 5.2845 0.5521 sec/batch\n",
      "Epoch 1/10 Iteration: 1400 Avg. Training loss: 5.2358 0.5595 sec/batch\n",
      "Epoch 1/10 Iteration: 1500 Avg. Training loss: 5.1410 0.5575 sec/batch\n",
      "Epoch 1/10 Iteration: 1600 Avg. Training loss: 5.1424 0.5577 sec/batch\n",
      "Epoch 1/10 Iteration: 1700 Avg. Training loss: 5.0926 0.5583 sec/batch\n",
      "Epoch 1/10 Iteration: 1800 Avg. Training loss: 5.0379 0.5843 sec/batch\n",
      "Epoch 1/10 Iteration: 1900 Avg. Training loss: 4.9726 0.5706 sec/batch\n",
      "Epoch 1/10 Iteration: 2000 Avg. Training loss: 4.9814 0.5636 sec/batch\n",
      "Nearest to can: epistemological, play, roles, versa, experimentation, parameters, operating, mystery,\n",
      "Nearest to this: prospect, howland, supposedly, supporter, petri, practised, banyan, minimize,\n",
      "Nearest to two: embraced, arisen, commander, characteristically, confused, philippi, sermons, dachau,\n",
      "Nearest to states: targeted, stated, under, electric, saxe, besieged, declaring, swains,\n",
      "Nearest to or: hermann, persuading, inadequate, modified, coping, newly, western, utterly,\n",
      "Nearest to these: honda, government, ludo, print, if, systems, site, concept,\n",
      "Nearest to d: villainous, attendance, cockpits, indigenous, fran, treatment, kappa, zhukov,\n",
      "Nearest to if: fossil, complicates, acta, base, these, processes, problems, impossible,\n",
      "Nearest to construction: dermanland, pertinent, pcs, very, tied, caches, modeling, superorder,\n",
      "Nearest to accepted: interval, ahead, exploration, finest, imitators, piercing, reduces, trivia,\n",
      "Nearest to dr: remittances, europe, enhanced, breeder, art, toilets, acting, constructivists,\n",
      "Nearest to ice: utr, deliberative, affable, vivax, indicted, statehood, sets, instead,\n",
      "Nearest to applied: anew, online, write, ebert, transonic, kaczynski, counselling, partners,\n",
      "Nearest to defense: gehinom, slightly, boycotted, henricus, sutra, skeptical, truth, lightfoot,\n",
      "Nearest to account: shift, julia, sargon, rendered, asbestosis, that, dpp, fredericton,\n",
      "Nearest to test: by, define, broadside, motivate, ord, abundance, smit, ds,\n",
      "Epoch 1/10 Iteration: 2100 Avg. Training loss: 4.9176 0.5599 sec/batch\n",
      "Epoch 1/10 Iteration: 2200 Avg. Training loss: 4.8894 0.5651 sec/batch\n",
      "Epoch 1/10 Iteration: 2300 Avg. Training loss: 4.8572 0.5136 sec/batch\n",
      "Epoch 1/10 Iteration: 2400 Avg. Training loss: 4.8363 0.5177 sec/batch\n",
      "Epoch 1/10 Iteration: 2500 Avg. Training loss: 4.7839 0.6230 sec/batch\n",
      "Epoch 1/10 Iteration: 2600 Avg. Training loss: 4.8134 0.4520 sec/batch\n",
      "Epoch 1/10 Iteration: 2700 Avg. Training loss: 4.8001 0.4206 sec/batch\n",
      "Epoch 1/10 Iteration: 2800 Avg. Training loss: 4.7628 0.4229 sec/batch\n",
      "Epoch 1/10 Iteration: 2900 Avg. Training loss: 4.8056 0.4231 sec/batch\n",
      "Epoch 1/10 Iteration: 3000 Avg. Training loss: 4.7763 0.4205 sec/batch\n",
      "Nearest to can: epistemological, experimentation, roles, operating, versa, parameters, mod, eschewed,\n",
      "Nearest to this: prospect, howland, supposedly, minimize, petri, practised, jammu, nyu,\n",
      "Nearest to two: embraced, arisen, characteristically, philippi, hastily, three, one, schuyler,\n",
      "Nearest to states: targeted, besieged, stated, saxe, under, receptive, declaring, beatniks,\n",
      "Nearest to or: persuading, hermann, inadequate, modified, coping, lac, utterly, universe,\n",
      "Nearest to these: print, ludo, if, honda, apricots, disappointed, systems, truman,\n",
      "Nearest to d: villainous, fran, cockpits, b, attendance, kappa, james, popolare,\n",
      "Nearest to if: complicates, fossil, acta, processes, wtro, impossible, these, opal,\n",
      "Nearest to construction: dermanland, pertinent, pcs, caches, tied, superorder, very, assemblers,\n",
      "Nearest to accepted: interval, ahead, imitators, finest, overseas, piercing, disappeared, epistles,\n",
      "Nearest to dr: remittances, enhanced, breeder, acting, europe, garde, toilets, debatable,\n",
      "Nearest to ice: utr, deliberative, vivax, indicted, affable, statehood, conversely, anatolia,\n",
      "Nearest to applied: anew, write, online, ebert, kaczynski, transonic, inquire, hashem,\n",
      "Nearest to defense: boycotted, gehinom, henricus, sutra, skeptical, slightly, chloe, diplomacy,\n",
      "Nearest to account: shift, sargon, julia, rendered, protons, that, ethnicity, cans,\n",
      "Nearest to test: by, ds, broadside, creates, anymore, abundance, define, motivate,\n",
      "Epoch 1/10 Iteration: 3100 Avg. Training loss: 4.7806 0.4290 sec/batch\n",
      "Epoch 1/10 Iteration: 3200 Avg. Training loss: 4.7566 0.4226 sec/batch\n",
      "Epoch 1/10 Iteration: 3300 Avg. Training loss: 4.7241 0.4213 sec/batch\n",
      "Epoch 1/10 Iteration: 3400 Avg. Training loss: 4.7468 0.4189 sec/batch\n",
      "Epoch 1/10 Iteration: 3500 Avg. Training loss: 4.7294 0.4282 sec/batch\n",
      "Epoch 1/10 Iteration: 3600 Avg. Training loss: 4.6853 0.4234 sec/batch\n",
      "Epoch 1/10 Iteration: 3700 Avg. Training loss: 4.6960 0.4213 sec/batch\n",
      "Epoch 1/10 Iteration: 3800 Avg. Training loss: 4.7124 0.4196 sec/batch\n",
      "Epoch 1/10 Iteration: 3900 Avg. Training loss: 4.6915 0.4223 sec/batch\n",
      "Epoch 1/10 Iteration: 4000 Avg. Training loss: 4.6526 0.4209 sec/batch\n",
      "Nearest to can: experimentation, epistemological, operating, kashrut, parameters, thin, orbiting, circumventing,\n",
      "Nearest to this: howland, prospect, interventions, minimize, grim, jammu, nyu, supposedly,\n",
      "Nearest to two: one, three, zero, five, embraced, characteristically, friedrich, schuyler,\n",
      "Nearest to states: besieged, targeted, congressional, saxe, stated, under, castille, membership,\n",
      "Nearest to or: persuading, inadequate, hermann, modified, coping, heuristic, sto, cotswolds,\n",
      "Nearest to these: ludo, print, if, apricots, pathogens, systems, patents, honda,\n",
      "Nearest to d: b, fran, physicist, james, laureate, cockpits, one, villainous,\n",
      "Nearest to if: complicates, acta, processes, these, fossil, impossible, problems, opal,\n",
      "Nearest to construction: dermanland, pertinent, pcs, lure, caches, assemblers, tied, posting,\n",
      "Nearest to accepted: interval, ahead, piercing, imitators, disappeared, epistles, finest, overseas,\n",
      "Nearest to dr: remittances, enhanced, breeder, sinner, toilets, anna, companion, acting,\n",
      "Nearest to ice: deliberative, utr, indicted, affable, vivax, nowhere, conversely, hammers,\n",
      "Nearest to applied: anew, kaczynski, inquire, write, transonic, csce, buffalo, online,\n",
      "Nearest to defense: gehinom, boycotted, henricus, skeptical, sutra, chloe, fuchs, cricketer,\n",
      "Nearest to account: shift, sargon, julia, ethnicity, rendered, asbestosis, fredericton, protons,\n",
      "Nearest to test: by, broadside, ds, motivate, ord, anymore, perilous, smit,\n",
      "Epoch 1/10 Iteration: 4100 Avg. Training loss: 4.6718 10.4641 sec/batch\n",
      "Epoch 1/10 Iteration: 4200 Avg. Training loss: 4.6629 0.5352 sec/batch\n",
      "Epoch 1/10 Iteration: 4300 Avg. Training loss: 4.6085 0.4274 sec/batch\n",
      "Epoch 1/10 Iteration: 4400 Avg. Training loss: 4.6348 0.4266 sec/batch\n",
      "Epoch 1/10 Iteration: 4500 Avg. Training loss: 4.6288 0.4226 sec/batch\n",
      "Epoch 1/10 Iteration: 4600 Avg. Training loss: 4.6259 0.4202 sec/batch\n",
      "Epoch 2/10 Iteration: 4700 Avg. Training loss: 4.5983 0.3086 sec/batch\n",
      "Epoch 2/10 Iteration: 4800 Avg. Training loss: 4.5577 0.4244 sec/batch\n",
      "Epoch 2/10 Iteration: 4900 Avg. Training loss: 4.5255 0.4235 sec/batch\n",
      "Epoch 2/10 Iteration: 5000 Avg. Training loss: 4.4970 0.4211 sec/batch\n",
      "Nearest to can: operating, experimentation, parameters, kashrut, thin, mod, epistemological, dateline,\n",
      "Nearest to this: howland, grim, prospect, interventions, minimize, supposedly, jammu, nyu,\n",
      "Nearest to two: three, one, zero, five, four, unpaved, bled, friedrich,\n",
      "Nearest to states: besieged, congressional, saxe, under, declaring, tajikistan, targeted, savage,\n",
      "Nearest to or: persuading, inadequate, coping, heuristic, modified, sto, utterly, reporting,\n",
      "Nearest to these: print, ludo, if, systems, apricots, pathogens, patents, hectares,\n",
      "Nearest to d: b, fran, physicist, laureate, one, james, four, villainous,\n",
      "Nearest to if: complicates, acta, problems, these, processes, impossible, algorithms, bhasha,\n",
      "Nearest to construction: dermanland, pertinent, lure, posting, assemblers, pcs, superorder, modeling,\n",
      "Nearest to accepted: interval, ahead, piercing, finest, disappeared, imitators, epistles, constituted,\n",
      "Nearest to dr: remittances, breeder, sinner, enhanced, toilets, anna, art, acting,\n",
      "Nearest to ice: utr, deliberative, indicted, nowhere, affable, visser, vivax, statehood,\n",
      "Nearest to applied: anew, kaczynski, write, transonic, csce, hashem, online, counselling,\n",
      "Nearest to defense: henricus, boycotted, gehinom, sutra, skeptical, chloe, diplomacy, relies,\n",
      "Nearest to account: ethnicity, shift, sargon, asbestosis, fredericton, dpp, julia, sumitomo,\n",
      "Nearest to test: by, broadside, motivate, mawson, ds, perilous, ord, anymore,\n",
      "Epoch 2/10 Iteration: 5100 Avg. Training loss: 4.4910 0.4272 sec/batch\n",
      "Epoch 2/10 Iteration: 5200 Avg. Training loss: 4.4940 0.4207 sec/batch\n",
      "Epoch 2/10 Iteration: 5300 Avg. Training loss: 4.4444 0.4206 sec/batch\n",
      "Epoch 2/10 Iteration: 5400 Avg. Training loss: 4.4997 0.4261 sec/batch\n",
      "Epoch 2/10 Iteration: 5500 Avg. Training loss: 4.4513 0.4232 sec/batch\n",
      "Epoch 2/10 Iteration: 5600 Avg. Training loss: 4.4568 0.4185 sec/batch\n",
      "Epoch 2/10 Iteration: 5700 Avg. Training loss: 4.4559 15.0138 sec/batch\n",
      "Epoch 2/10 Iteration: 5800 Avg. Training loss: 4.4109 0.4733 sec/batch\n",
      "Epoch 2/10 Iteration: 5900 Avg. Training loss: 4.4661 0.4906 sec/batch\n",
      "Epoch 2/10 Iteration: 6000 Avg. Training loss: 4.4209 0.5057 sec/batch\n",
      "Nearest to can: operating, thin, experimentation, parameters, kashrut, mod, controls, eschewed,\n",
      "Nearest to this: minimize, interventions, grim, lactamase, howland, prospect, flexibility, nyu,\n",
      "Nearest to two: three, five, zero, one, four, unpaved, m, bled,\n",
      "Nearest to states: besieged, congressional, rios, declaring, saxe, prosecutors, under, membership,\n",
      "Nearest to or: persuading, inadequate, coping, heuristic, modified, newbies, hear, utterly,\n",
      "Nearest to these: if, print, ludo, pathogens, systems, apricots, transcription, concept,\n",
      "Nearest to d: fran, physicist, b, laureate, villainous, stan, thompson, qutb,\n",
      "Nearest to if: complicates, problems, acta, these, impossible, algorithms, processes, arbitrary,\n",
      "Nearest to construction: dermanland, pertinent, posting, lure, niger, superorder, irrigation, sponge,\n",
      "Nearest to accepted: interval, piercing, ahead, epistles, disappeared, constituted, imitators, practise,\n",
      "Nearest to dr: remittances, breeder, sinner, anna, appreciative, art, congressman, leicester,\n",
      "Nearest to ice: utr, deliberative, vivax, nowhere, visser, affable, logik, indicted,\n",
      "Nearest to applied: anew, kaczynski, transonic, write, csce, iteration, brilliantly, hashem,\n",
      "Nearest to defense: henricus, boycotted, gehinom, sutra, skeptical, chloe, exertion, suo,\n",
      "Nearest to account: ethnicity, shift, fredericton, asbestosis, sargon, dpp, sumitomo, broadbent,\n",
      "Nearest to test: by, broadside, motivate, mawson, anymore, ord, ds, smit,\n",
      "Epoch 2/10 Iteration: 6100 Avg. Training loss: 4.4627 0.4246 sec/batch\n",
      "Epoch 2/10 Iteration: 6200 Avg. Training loss: 4.4181 0.4213 sec/batch\n",
      "Epoch 2/10 Iteration: 6300 Avg. Training loss: 4.4081 0.4165 sec/batch\n",
      "Epoch 2/10 Iteration: 6400 Avg. Training loss: 4.3979 0.4137 sec/batch\n",
      "Epoch 2/10 Iteration: 6500 Avg. Training loss: 4.4135 0.4137 sec/batch\n",
      "Epoch 2/10 Iteration: 6600 Avg. Training loss: 4.4569 0.4129 sec/batch\n",
      "Epoch 2/10 Iteration: 6700 Avg. Training loss: 4.3839 0.4112 sec/batch\n",
      "Epoch 2/10 Iteration: 6800 Avg. Training loss: 4.3790 0.4132 sec/batch\n",
      "Epoch 2/10 Iteration: 6900 Avg. Training loss: 4.4114 0.4712 sec/batch\n",
      "Epoch 2/10 Iteration: 7000 Avg. Training loss: 4.3867 0.4773 sec/batch\n",
      "Nearest to can: controls, epistemological, kashrut, experimentation, operating, parameters, mod, dateline,\n",
      "Nearest to this: minimize, grim, interventions, howland, lactamase, jammu, supposedly, prospect,\n",
      "Nearest to two: three, zero, one, five, four, m, unpaved, six,\n",
      "Nearest to states: congressional, besieged, rios, declaring, membership, prosecutors, uniformed, saxe,\n",
      "Nearest to or: persuading, inadequate, coping, heuristic, modified, newbies, hear, utterly,\n",
      "Nearest to these: if, print, ludo, apricots, pathogens, transcription, systems, concept,\n",
      "Nearest to d: b, fran, physicist, laureate, villainous, cockpits, stan, thompson,\n",
      "Nearest to if: complicates, acta, impossible, problems, these, understood, cannot, integers,\n",
      "Nearest to construction: dermanland, pertinent, posting, niger, lure, atoll, assemblers, unloading,\n",
      "Nearest to accepted: interval, piercing, epistles, ahead, constituted, disappeared, nostrils, imitators,\n",
      "Nearest to dr: breeder, art, sinner, remittances, garde, anna, companion, loretta,\n",
      "Nearest to ice: utr, deliberative, visser, vivax, nowhere, ellesmere, logik, affable,\n",
      "Nearest to applied: anew, transonic, kaczynski, write, brilliantly, csce, iteration, inquire,\n",
      "Nearest to defense: boycotted, gehinom, henricus, sutra, skeptical, suo, diplomacy, chloe,\n",
      "Nearest to account: ethnicity, shift, fredericton, sargon, that, asbestosis, dpp, broadbent,\n",
      "Nearest to test: by, broadside, motivate, anymore, ds, mawson, ducts, smit,\n",
      "Epoch 2/10 Iteration: 7100 Avg. Training loss: 4.3775 0.4411 sec/batch\n",
      "Epoch 2/10 Iteration: 7200 Avg. Training loss: 4.3896 0.4308 sec/batch\n",
      "Epoch 2/10 Iteration: 7300 Avg. Training loss: 4.3617 0.4281 sec/batch\n",
      "Epoch 2/10 Iteration: 7400 Avg. Training loss: 4.3747 0.4383 sec/batch\n",
      "Epoch 2/10 Iteration: 7500 Avg. Training loss: 4.3905 0.5022 sec/batch\n",
      "Epoch 2/10 Iteration: 7600 Avg. Training loss: 4.3782 0.4353 sec/batch\n",
      "Epoch 2/10 Iteration: 7700 Avg. Training loss: 4.3921 0.4334 sec/batch\n",
      "Epoch 2/10 Iteration: 7800 Avg. Training loss: 4.3715 0.3817 sec/batch\n",
      "Epoch 2/10 Iteration: 7900 Avg. Training loss: 4.3721 0.5068 sec/batch\n",
      "Epoch 2/10 Iteration: 8000 Avg. Training loss: 4.3438 0.4352 sec/batch\n",
      "Nearest to can: controls, epistemological, kashrut, roles, interstitial, circumventing, experimentation, mod,\n",
      "Nearest to this: minimize, interventions, lactamase, jammu, grim, flexibility, prospect, nyu,\n",
      "Nearest to two: three, five, zero, one, four, six, m, unpaved,\n",
      "Nearest to states: congressional, declaring, besieged, beatniks, prosecutors, rios, membership, under,\n",
      "Nearest to or: persuading, inadequate, coping, hear, utterly, scriptores, keynesians, heuristic,\n",
      "Nearest to these: if, ludo, print, apricots, government, patents, pathogens, transcription,\n",
      "Nearest to d: b, physicist, fran, villainous, cockpits, laureate, tertium, thompson,\n",
      "Nearest to if: complicates, impossible, acta, problems, these, arbitrary, implicit, cannot,\n",
      "Nearest to construction: dermanland, niger, irrigation, atoll, posting, unloading, deforested, infrastructure,\n",
      "Nearest to accepted: piercing, interval, epistles, disappeared, constituted, nostrils, ahead, kabbalistic,\n",
      "Nearest to dr: breeder, sinner, art, companion, garde, anna, loretta, appreciative,\n",
      "Nearest to ice: utr, deliberative, visser, ellesmere, vivax, crediting, logik, superconducting,\n",
      "Nearest to applied: transonic, anew, kaczynski, write, brilliantly, inquire, csce, hooke,\n",
      "Nearest to defense: gehinom, boycotted, henricus, sutra, skeptical, diplomacy, suo, agreement,\n",
      "Nearest to account: ethnicity, fredericton, sargon, shift, zorro, broadbent, asbestosis, that,\n",
      "Nearest to test: by, broadside, anymore, motivate, ducts, mawson, ds, abundance,\n",
      "Epoch 2/10 Iteration: 8100 Avg. Training loss: 4.3468 0.4342 sec/batch\n",
      "Epoch 2/10 Iteration: 8200 Avg. Training loss: 4.2892 0.4432 sec/batch\n",
      "Epoch 2/10 Iteration: 8300 Avg. Training loss: 4.3685 0.4203 sec/batch\n",
      "Epoch 2/10 Iteration: 8400 Avg. Training loss: 4.3744 0.4377 sec/batch\n",
      "Epoch 2/10 Iteration: 8500 Avg. Training loss: 4.3729 0.4291 sec/batch\n",
      "Epoch 2/10 Iteration: 8600 Avg. Training loss: 4.2963 0.4308 sec/batch\n",
      "Epoch 2/10 Iteration: 8700 Avg. Training loss: 4.3281 0.4212 sec/batch\n",
      "Epoch 2/10 Iteration: 8800 Avg. Training loss: 4.3297 0.4260 sec/batch\n",
      "Epoch 2/10 Iteration: 8900 Avg. Training loss: 4.2457 0.4315 sec/batch\n",
      "Epoch 2/10 Iteration: 9000 Avg. Training loss: 4.3004 0.4293 sec/batch\n",
      "Nearest to can: epistemological, controls, interstitial, mod, examined, kashrut, hideaki, circumventing,\n",
      "Nearest to this: interventions, minimize, lactamase, grim, nyu, jammu, quantitatively, prospect,\n",
      "Nearest to two: three, zero, one, five, four, six, unpaved, m,\n",
      "Nearest to states: congressional, prosecutors, declaring, rios, redskins, consecrations, beatniks, membership,\n",
      "Nearest to or: inadequate, persuading, coping, heuristic, scriptores, utterly, inprise, hear,\n",
      "Nearest to these: print, ludo, apricots, pathogens, refer, transcription, nlp, patents,\n",
      "Nearest to d: b, physicist, fran, laureate, villainous, astronomer, luis, stan,\n",
      "Nearest to if: complicates, impossible, acta, problems, cannot, implicit, flipping, understood,\n",
      "Nearest to construction: dermanland, irrigation, niger, atoll, infrastructure, unloading, deforested, lure,\n",
      "Nearest to accepted: interval, piercing, epistles, constituted, ahead, remaining, disappeared, incompleteness,\n",
      "Nearest to dr: loretta, breeder, companion, sinner, anna, art, garde, appreciative,\n",
      "Nearest to ice: utr, visser, ellesmere, deliberative, vivax, superconducting, crediting, eraser,\n",
      "Nearest to applied: transonic, anew, write, kaczynski, brilliantly, csce, hooke, zealously,\n",
      "Nearest to defense: gehinom, boycotted, henricus, skeptical, sutra, diplomacy, fuerzas, agreement,\n",
      "Nearest to account: fredericton, ethnicity, sargon, zorro, shift, broadbent, untrue, sumitomo,\n",
      "Nearest to test: by, motivate, ducts, broadside, anymore, mawson, ds, carlsberg,\n",
      "Epoch 2/10 Iteration: 9100 Avg. Training loss: 4.3427 0.4322 sec/batch\n",
      "Epoch 2/10 Iteration: 9200 Avg. Training loss: 4.3077 0.4277 sec/batch\n",
      "Epoch 3/10 Iteration: 9300 Avg. Training loss: 4.3231 0.1976 sec/batch\n",
      "Epoch 3/10 Iteration: 9400 Avg. Training loss: 4.2527 0.4289 sec/batch\n",
      "Epoch 3/10 Iteration: 9500 Avg. Training loss: 4.2287 0.4241 sec/batch\n",
      "Epoch 3/10 Iteration: 9600 Avg. Training loss: 4.2512 0.4372 sec/batch\n",
      "Epoch 3/10 Iteration: 9700 Avg. Training loss: 4.2453 0.4288 sec/batch\n",
      "Epoch 3/10 Iteration: 9800 Avg. Training loss: 4.1955 0.4274 sec/batch\n",
      "Epoch 3/10 Iteration: 9900 Avg. Training loss: 4.2184 0.4281 sec/batch\n",
      "Epoch 3/10 Iteration: 10000 Avg. Training loss: 4.1702 0.4227 sec/batch\n",
      "Nearest to can: interstitial, controls, kashrut, hideaki, dateline, epistemological, mod, examined,\n",
      "Nearest to this: interventions, quantitatively, additionally, minimize, lactamase, dhtml, flexibility, petri,\n",
      "Nearest to two: three, five, zero, one, four, six, unpaved, bled,\n",
      "Nearest to states: declaring, rios, congressional, prosecutors, beatniks, ginzburg, redskins, consecrations,\n",
      "Nearest to or: inadequate, persuading, coping, scriptores, hear, utterly, heuristic, keynesians,\n",
      "Nearest to these: print, apricots, ludo, pathogens, refer, various, transcription, lasers,\n",
      "Nearest to d: fran, physicist, b, laureate, villainous, luis, astronomer, andrea,\n",
      "Nearest to if: complicates, impossible, acta, cannot, pointless, problems, chanukah, every,\n",
      "Nearest to construction: dermanland, atoll, niger, unloading, irrigation, infrastructure, superorder, ukraine,\n",
      "Nearest to accepted: interval, epistles, piercing, constituted, incompleteness, priori, kabbalistic, remaining,\n",
      "Nearest to dr: breeder, loretta, appreciative, sinner, disposing, shevat, naropa, toilets,\n",
      "Nearest to ice: utr, visser, ellesmere, deliberative, superconducting, shelves, vivax, glacier,\n",
      "Nearest to applied: transonic, anew, brilliantly, kaczynski, write, hooke, flex, textbooks,\n",
      "Nearest to defense: gehinom, boycotted, henricus, skeptical, nuclear, relies, sutra, strike,\n",
      "Nearest to account: fredericton, ethnicity, zorro, sargon, asbestosis, shift, broadbent, sumitomo,\n",
      "Nearest to test: by, motivate, anymore, ducts, broadside, mawson, ds, carlsberg,\n",
      "Epoch 3/10 Iteration: 10100 Avg. Training loss: 4.2524 0.4296 sec/batch\n",
      "Epoch 3/10 Iteration: 10200 Avg. Training loss: 4.2203 0.4238 sec/batch\n",
      "Epoch 3/10 Iteration: 10300 Avg. Training loss: 4.2317 0.4284 sec/batch\n",
      "Epoch 3/10 Iteration: 10400 Avg. Training loss: 4.1351 0.4239 sec/batch\n",
      "Epoch 3/10 Iteration: 10500 Avg. Training loss: 4.2367 0.4230 sec/batch\n",
      "Epoch 3/10 Iteration: 10600 Avg. Training loss: 4.1844 0.4246 sec/batch\n",
      "Epoch 3/10 Iteration: 10700 Avg. Training loss: 4.1759 0.4206 sec/batch\n",
      "Epoch 3/10 Iteration: 10800 Avg. Training loss: 4.1683 0.4332 sec/batch\n",
      "Epoch 3/10 Iteration: 10900 Avg. Training loss: 4.2211 0.3838 sec/batch\n",
      "Epoch 3/10 Iteration: 11000 Avg. Training loss: 4.1921 0.3801 sec/batch\n",
      "Nearest to can: interstitial, kashrut, hideaki, mod, examined, controls, markings, kcal,\n",
      "Nearest to this: interventions, quantitatively, additionally, is, druidic, petri, minimize, lactamase,\n",
      "Nearest to two: three, zero, five, one, four, six, april, unpaved,\n",
      "Nearest to states: declaring, prosecutors, rios, congressional, beatniks, ginzburg, membership, consecrations,\n",
      "Nearest to or: inadequate, persuading, coping, scriptores, hear, heuristic, person, disordered,\n",
      "Nearest to these: print, ludo, refer, transcription, apricots, byte, pathogens, various,\n",
      "Nearest to d: b, physicist, fran, villainous, cockpits, laureate, luis, tertium,\n",
      "Nearest to if: complicates, impossible, cannot, every, flipping, acta, pointless, problems,\n",
      "Nearest to construction: dermanland, atoll, unloading, superorder, irrigation, niger, nome, ukraine,\n",
      "Nearest to accepted: interval, epistles, constituted, priori, piercing, remaining, practise, case,\n",
      "Nearest to dr: breeder, loretta, idiosyncrasies, appreciative, toilets, enhanced, shevat, sinner,\n",
      "Nearest to ice: utr, visser, ellesmere, deliberative, nowhere, superconducting, debris, stones,\n",
      "Nearest to applied: transonic, kaczynski, brilliantly, write, anew, hooke, csce, flex,\n",
      "Nearest to defense: boycotted, gehinom, henricus, fuerzas, skeptical, strike, operatives, nuclear,\n",
      "Nearest to account: ethnicity, fredericton, shift, sargon, asbestosis, broadbent, zorro, untrue,\n",
      "Nearest to test: by, motivate, ducts, mawson, broadside, anymore, ds, carlsberg,\n",
      "Epoch 3/10 Iteration: 11100 Avg. Training loss: 4.1848 0.3809 sec/batch\n",
      "Epoch 3/10 Iteration: 11200 Avg. Training loss: 4.2361 0.3757 sec/batch\n"
     ]
    }
   ],
   "source": [
    "epochs = 10\n",
    "batch_size = 1000\n",
    "window_size = 10\n",
    "\n",
    "with train_graph.as_default():\n",
    "    saver = tf.train.Saver()\n",
    "\n",
    "with tf.Session(graph=train_graph) as sess:\n",
    "    iteration = 1\n",
    "    loss = 0\n",
    "    sess.run(tf.global_variables_initializer())\n",
    "\n",
    "    for e in range(1, epochs+1):\n",
    "        batches = get_batches(train_words, batch_size, window_size)\n",
    "        start = time.time()\n",
    "        for x, y in batches:\n",
    "            \n",
    "            feed = {inputs: x,\n",
    "                    labels: np.array(y)[:, None]}\n",
    "            train_loss, _ = sess.run([cost, optimizer], feed_dict=feed)\n",
    "            \n",
    "            loss += train_loss\n",
    "            \n",
    "            if iteration % 100 == 0: \n",
    "                end = time.time()\n",
    "                print(\"Epoch {}/{}\".format(e, epochs),\n",
    "                      \"Iteration: {}\".format(iteration),\n",
    "                      \"Avg. Training loss: {:.4f}\".format(loss/100),\n",
    "                      \"{:.4f} sec/batch\".format((end-start)/100))\n",
    "                loss = 0\n",
    "                start = time.time()\n",
    "            \n",
    "            if iteration % 1000 == 0:\n",
    "                ## From Thushan Ganegedara's implementation\n",
    "                # note that this is expensive (~20% slowdown if computed every 500 steps)\n",
    "                sim = similarity.eval()\n",
    "                for i in range(valid_size):\n",
    "                    valid_word = int_to_vocab[valid_examples[i]]\n",
    "                    top_k = 8 # number of nearest neighbors\n",
    "                    nearest = (-sim[i, :]).argsort()[1:top_k+1]\n",
    "                    log = 'Nearest to %s:' % valid_word\n",
    "                    for k in range(top_k):\n",
    "                        close_word = int_to_vocab[nearest[k]]\n",
    "                        log = '%s %s,' % (log, close_word)\n",
    "                    print(log)\n",
    "            \n",
    "            iteration += 1\n",
    "    save_path = saver.save(sess, \"checkpoints/text8.ckpt\")\n",
    "    embed_mat = sess.run(normalized_embedding)"
   ]
  },
  {
   "cell_type": "markdown",
   "metadata": {
    "deletable": true,
    "editable": true
   },
   "source": [
    "Restore the trained network if you need to:"
   ]
  },
  {
   "cell_type": "code",
   "execution_count": null,
   "metadata": {
    "collapsed": true,
    "deletable": true,
    "editable": true
   },
   "outputs": [],
   "source": [
    "with train_graph.as_default():\n",
    "    saver = tf.train.Saver()\n",
    "\n",
    "with tf.Session(graph=train_graph) as sess:\n",
    "    saver.restore(sess, tf.train.latest_checkpoint('checkpoints'))\n",
    "    embed_mat = sess.run(embedding)"
   ]
  },
  {
   "cell_type": "markdown",
   "metadata": {
    "deletable": true,
    "editable": true
   },
   "source": [
    "## Visualizing the word vectors\n",
    "\n",
    "Below we'll use T-SNE to visualize how our high-dimensional word vectors cluster together. T-SNE is used to project these vectors into two dimensions while preserving local stucture. Check out [this post from Christopher Olah](http://colah.github.io/posts/2014-10-Visualizing-MNIST/) to learn more about T-SNE and other ways to visualize high-dimensional data."
   ]
  },
  {
   "cell_type": "code",
   "execution_count": null,
   "metadata": {
    "collapsed": true,
    "deletable": true,
    "editable": true
   },
   "outputs": [],
   "source": [
    "%matplotlib inline\n",
    "%config InlineBackend.figure_format = 'retina'\n",
    "\n",
    "import matplotlib.pyplot as plt\n",
    "from sklearn.manifold import TSNE"
   ]
  },
  {
   "cell_type": "code",
   "execution_count": null,
   "metadata": {
    "collapsed": true,
    "deletable": true,
    "editable": true
   },
   "outputs": [],
   "source": [
    "viz_words = 500\n",
    "tsne = TSNE()\n",
    "embed_tsne = tsne.fit_transform(embed_mat[:viz_words, :])"
   ]
  },
  {
   "cell_type": "code",
   "execution_count": null,
   "metadata": {
    "collapsed": true,
    "deletable": true,
    "editable": true
   },
   "outputs": [],
   "source": [
    "fig, ax = plt.subplots(figsize=(14, 14))\n",
    "for idx in range(viz_words):\n",
    "    plt.scatter(*embed_tsne[idx, :], color='steelblue')\n",
    "    plt.annotate(int_to_vocab[idx], (embed_tsne[idx, 0], embed_tsne[idx, 1]), alpha=0.7)"
   ]
  },
  {
   "cell_type": "code",
   "execution_count": null,
   "metadata": {
    "collapsed": true
   },
   "outputs": [],
   "source": []
  }
 ],
 "metadata": {
  "kernelspec": {
   "display_name": "Python 3",
   "language": "python",
   "name": "python3"
  },
  "language_info": {
   "codemirror_mode": {
    "name": "ipython",
    "version": 3
   },
   "file_extension": ".py",
   "mimetype": "text/x-python",
   "name": "python",
   "nbconvert_exporter": "python",
   "pygments_lexer": "ipython3",
   "version": "3.5.3"
  }
 },
 "nbformat": 4,
 "nbformat_minor": 2
}
